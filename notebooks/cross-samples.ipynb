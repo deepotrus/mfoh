{
 "cells": [
  {
   "cell_type": "markdown",
   "id": "d8e9b4c8-1152-4e14-82ae-0e084087e650",
   "metadata": {},
   "source": [
    "# 1. CROSS SAMPLES EXTRACTION"
   ]
  },
  {
   "cell_type": "markdown",
   "id": "0da6c2a9-9c7c-4b7c-a5fd-95b93f961ef1",
   "metadata": {},
   "source": [
    "### INPUT"
   ]
  },
  {
   "cell_type": "code",
   "execution_count": 1,
   "id": "7fd725d6-122e-4e04-8897-4de78fce76aa",
   "metadata": {
    "tags": []
   },
   "outputs": [],
   "source": [
    "tf = '4h'; market = 'OANDA'\n",
    "key = 'btc'; pair = 'usd'\n",
    "slow_ma = 21; fast_ma = 7"
   ]
  },
  {
   "cell_type": "markdown",
   "id": "3991df1b-80a7-4f37-aee6-6ab1fdc80d14",
   "metadata": {},
   "source": [
    "### LIBRARIES"
   ]
  },
  {
   "cell_type": "code",
   "execution_count": 2,
   "id": "dceb55c6-b6ca-42a6-a4a2-1c6cacb26700",
   "metadata": {
    "tags": []
   },
   "outputs": [],
   "source": [
    "import pandas as pd\n",
    "import pandas_ta as ta\n",
    "import pickle"
   ]
  },
  {
   "cell_type": "markdown",
   "id": "ed0d8bad-9865-41bb-9b1b-b599f4cd6908",
   "metadata": {},
   "source": [
    "### MAIN"
   ]
  },
  {
   "cell_type": "code",
   "execution_count": 3,
   "id": "dc044e06-0c4b-4dfe-80f0-4f175d6f45c4",
   "metadata": {
    "tags": []
   },
   "outputs": [],
   "source": [
    "# Load correct mapping dictionary e.g. btc -> BTCUSD\n",
    "map_path = f\"../supp/maps_{pair}.pkl\"\n",
    "with open(map_path, 'rb') as pkl_file:\n",
    "    mapp = pickle.load(pkl_file)"
   ]
  },
  {
   "cell_type": "code",
   "execution_count": 4,
   "id": "bd8bb0f2-d04b-471b-b901-3836106e469a",
   "metadata": {
    "tags": []
   },
   "outputs": [],
   "source": [
    "# Load historical prices for a specific market e.g. BINANCE\n",
    "path = f\"../data/{tf}/usd/{key}/\"\n",
    "in_filename = f\"{path}/{mapp[key]}-{market}.csv\"\n",
    "df = pd.read_csv(in_filename).drop(columns = ['symbol']).set_index('datetime')\n",
    "df.index = pd.to_datetime(df.index) # For plotting compatibility with mdates"
   ]
  },
  {
   "cell_type": "code",
   "execution_count": 5,
   "id": "a77bed17-1ecb-4a07-a41a-7229200ef2c8",
   "metadata": {
    "tags": []
   },
   "outputs": [],
   "source": [
    "# Adding indicators\n",
    "df['sma_greater'] = df.ta.sma(fast_ma, append = True) > df.ta.sma(slow_ma, append = True)\n",
    "df['bull_cross'] = (df['sma_greater'] & ~df['sma_greater'].shift(fill_value=False))\n",
    "df['bear_cross'] = df['sma_greater'] & ~df['sma_greater'].shift(-1, fill_value=False)\n",
    "df['bear_cross'] = df['bear_cross'].shift(fill_value=False) # needs to be adjusted, shift by 1 position to bottom\n",
    "\n",
    "df.dropna(inplace = True)\n",
    "df = df.iloc[1:] # drop first row which is an invalid bull cross\n",
    "df['sma_var'] = df.apply(lambda row: (row['SMA_7'] - row['SMA_21'])/row['SMA_21']*100, axis = 1 )"
   ]
  },
  {
   "cell_type": "code",
   "execution_count": 6,
   "id": "6dd52408-9424-43c0-99cd-02f65aebc332",
   "metadata": {
    "tags": []
   },
   "outputs": [],
   "source": [
    "df['target'] = 0"
   ]
  },
  {
   "cell_type": "code",
   "execution_count": 7,
   "id": "da02b4fa-ab9a-4687-85ae-e9ff76a57337",
   "metadata": {
    "tags": []
   },
   "outputs": [],
   "source": [
    "period = 7\n",
    "df['rolling_std'] = df['close'].rolling(window=period).std()"
   ]
  },
  {
   "cell_type": "code",
   "execution_count": 8,
   "id": "fd3006ba-6568-49c2-873b-22963c9abe76",
   "metadata": {
    "tags": []
   },
   "outputs": [],
   "source": [
    "# Extract Target as number of candles in bullish period (sma_var > 0)\n",
    "df['target'] = 0\n",
    "conta = 0; i_start = 0\n",
    "bull_period = False\n",
    "\n",
    "for i in range(len(df)):\n",
    "    if df['bull_cross'].iloc[i] == True:\n",
    "        bull_period = True\n",
    "        i_start = i\n",
    "    \n",
    "    if bull_period == True:\n",
    "        if df['sma_greater'].iloc[i] == True:\n",
    "            conta += 1\n",
    "        else:\n",
    "            df.loc[df.index[i_start], 'target'] = conta\n",
    "            bull_period = False\n",
    "            conta = 0"
   ]
  },
  {
   "cell_type": "code",
   "execution_count": 9,
   "id": "10ba6da8-16ff-4899-b2a8-6e33fc4935bb",
   "metadata": {
    "tags": []
   },
   "outputs": [],
   "source": [
    "# Choose size of cross samples\n",
    "loc = 5 # candles before & after the cross (included)\n",
    "\n",
    "# Extract Cross Samples\n",
    "crosses = [df.iloc[i-loc:i+loc] for i in range(len(df)) if df['bull_cross'].iloc[i] == True]\n",
    "\n",
    "# Find invalid samples with bear cross after bull cross\n",
    "bear_inrange = list()\n",
    "for idx, cross in enumerate(crosses):\n",
    "    conta = 0\n",
    "    for j in range(len(cross)):\n",
    "        if (cross.bear_cross.iloc[j] == True) and (j > len(cross)/2):\n",
    "            conta += 1\n",
    "    if conta > 0:\n",
    "        bear_inrange.append(idx)\n",
    "\n",
    "# Remove samples with bearish cross AFTER a bullish cross\n",
    "crosses = [cross for idx, cross in enumerate(crosses) if idx not in bear_inrange]"
   ]
  },
  {
   "cell_type": "code",
   "execution_count": 10,
   "id": "077dd01e-f062-4190-8d42-7d002c7b1859",
   "metadata": {
    "tags": []
   },
   "outputs": [
    {
     "data": {
      "text/plain": [
       "135"
      ]
     },
     "execution_count": 10,
     "metadata": {},
     "output_type": "execute_result"
    }
   ],
   "source": [
    "len(crosses)"
   ]
  },
  {
   "cell_type": "code",
   "execution_count": 11,
   "id": "56d4b917-d49b-48e2-99fc-1efdbb26d6cf",
   "metadata": {
    "tags": []
   },
   "outputs": [
    {
     "data": {
      "text/html": [
       "<div>\n",
       "<style scoped>\n",
       "    .dataframe tbody tr th:only-of-type {\n",
       "        vertical-align: middle;\n",
       "    }\n",
       "\n",
       "    .dataframe tbody tr th {\n",
       "        vertical-align: top;\n",
       "    }\n",
       "\n",
       "    .dataframe thead th {\n",
       "        text-align: right;\n",
       "    }\n",
       "</style>\n",
       "<table border=\"1\" class=\"dataframe\">\n",
       "  <thead>\n",
       "    <tr style=\"text-align: right;\">\n",
       "      <th></th>\n",
       "      <th>open</th>\n",
       "      <th>high</th>\n",
       "      <th>low</th>\n",
       "      <th>close</th>\n",
       "      <th>volume</th>\n",
       "      <th>SMA_7</th>\n",
       "      <th>SMA_21</th>\n",
       "      <th>sma_greater</th>\n",
       "      <th>bull_cross</th>\n",
       "      <th>bear_cross</th>\n",
       "      <th>sma_var</th>\n",
       "      <th>target</th>\n",
       "      <th>rolling_std</th>\n",
       "    </tr>\n",
       "    <tr>\n",
       "      <th>datetime</th>\n",
       "      <th></th>\n",
       "      <th></th>\n",
       "      <th></th>\n",
       "      <th></th>\n",
       "      <th></th>\n",
       "      <th></th>\n",
       "      <th></th>\n",
       "      <th></th>\n",
       "      <th></th>\n",
       "      <th></th>\n",
       "      <th></th>\n",
       "      <th></th>\n",
       "      <th></th>\n",
       "    </tr>\n",
       "  </thead>\n",
       "  <tbody>\n",
       "    <tr>\n",
       "      <th>2020-08-27 23:00:00</th>\n",
       "      <td>11271.4</td>\n",
       "      <td>11363.9</td>\n",
       "      <td>11257.3</td>\n",
       "      <td>11353.5</td>\n",
       "      <td>8270.0</td>\n",
       "      <td>11352.714286</td>\n",
       "      <td>11446.742857</td>\n",
       "      <td>False</td>\n",
       "      <td>False</td>\n",
       "      <td>False</td>\n",
       "      <td>-0.821444</td>\n",
       "      <td>0</td>\n",
       "      <td>66.712054</td>\n",
       "    </tr>\n",
       "    <tr>\n",
       "      <th>2020-08-28 03:00:00</th>\n",
       "      <td>11353.5</td>\n",
       "      <td>11401.3</td>\n",
       "      <td>11338.8</td>\n",
       "      <td>11398.3</td>\n",
       "      <td>7714.0</td>\n",
       "      <td>11343.028571</td>\n",
       "      <td>11429.552381</td>\n",
       "      <td>False</td>\n",
       "      <td>False</td>\n",
       "      <td>False</td>\n",
       "      <td>-0.757018</td>\n",
       "      <td>0</td>\n",
       "      <td>50.444746</td>\n",
       "    </tr>\n",
       "    <tr>\n",
       "      <th>2020-08-28 07:00:00</th>\n",
       "      <td>11398.3</td>\n",
       "      <td>11454.7</td>\n",
       "      <td>11367.9</td>\n",
       "      <td>11404.8</td>\n",
       "      <td>8362.0</td>\n",
       "      <td>11347.685714</td>\n",
       "      <td>11414.109524</td>\n",
       "      <td>False</td>\n",
       "      <td>False</td>\n",
       "      <td>False</td>\n",
       "      <td>-0.581945</td>\n",
       "      <td>0</td>\n",
       "      <td>54.895277</td>\n",
       "    </tr>\n",
       "    <tr>\n",
       "      <th>2020-08-28 11:00:00</th>\n",
       "      <td>11404.8</td>\n",
       "      <td>11493.9</td>\n",
       "      <td>11404.0</td>\n",
       "      <td>11454.9</td>\n",
       "      <td>8984.0</td>\n",
       "      <td>11358.871429</td>\n",
       "      <td>11400.357143</td>\n",
       "      <td>False</td>\n",
       "      <td>False</td>\n",
       "      <td>False</td>\n",
       "      <td>-0.363898</td>\n",
       "      <td>0</td>\n",
       "      <td>68.146869</td>\n",
       "    </tr>\n",
       "    <tr>\n",
       "      <th>2020-08-28 15:00:00</th>\n",
       "      <td>11454.9</td>\n",
       "      <td>11552.2</td>\n",
       "      <td>11414.9</td>\n",
       "      <td>11520.8</td>\n",
       "      <td>11624.0</td>\n",
       "      <td>11382.457143</td>\n",
       "      <td>11392.538095</td>\n",
       "      <td>False</td>\n",
       "      <td>False</td>\n",
       "      <td>False</td>\n",
       "      <td>-0.088487</td>\n",
       "      <td>0</td>\n",
       "      <td>91.451970</td>\n",
       "    </tr>\n",
       "    <tr>\n",
       "      <th>2020-08-28 19:00:00</th>\n",
       "      <td>11520.8</td>\n",
       "      <td>11533.3</td>\n",
       "      <td>11469.5</td>\n",
       "      <td>11502.6</td>\n",
       "      <td>6022.0</td>\n",
       "      <td>11415.185714</td>\n",
       "      <td>11388.676190</td>\n",
       "      <td>True</td>\n",
       "      <td>True</td>\n",
       "      <td>False</td>\n",
       "      <td>0.232771</td>\n",
       "      <td>18</td>\n",
       "      <td>86.838268</td>\n",
       "    </tr>\n",
       "    <tr>\n",
       "      <th>2020-08-30 23:00:00</th>\n",
       "      <td>11502.6</td>\n",
       "      <td>11728.0</td>\n",
       "      <td>11502.6</td>\n",
       "      <td>11699.8</td>\n",
       "      <td>7044.0</td>\n",
       "      <td>11476.385714</td>\n",
       "      <td>11398.480952</td>\n",
       "      <td>True</td>\n",
       "      <td>False</td>\n",
       "      <td>False</td>\n",
       "      <td>0.683466</td>\n",
       "      <td>0</td>\n",
       "      <td>115.005934</td>\n",
       "    </tr>\n",
       "    <tr>\n",
       "      <th>2020-08-31 03:00:00</th>\n",
       "      <td>11699.8</td>\n",
       "      <td>11711.5</td>\n",
       "      <td>11650.1</td>\n",
       "      <td>11668.7</td>\n",
       "      <td>6994.0</td>\n",
       "      <td>11521.414286</td>\n",
       "      <td>11414.338095</td>\n",
       "      <td>True</td>\n",
       "      <td>False</td>\n",
       "      <td>False</td>\n",
       "      <td>0.938085</td>\n",
       "      <td>0</td>\n",
       "      <td>120.449899</td>\n",
       "    </tr>\n",
       "    <tr>\n",
       "      <th>2020-08-31 07:00:00</th>\n",
       "      <td>11668.7</td>\n",
       "      <td>11688.1</td>\n",
       "      <td>11579.1</td>\n",
       "      <td>11585.0</td>\n",
       "      <td>7401.0</td>\n",
       "      <td>11548.085714</td>\n",
       "      <td>11429.709524</td>\n",
       "      <td>True</td>\n",
       "      <td>False</td>\n",
       "      <td>False</td>\n",
       "      <td>1.035689</td>\n",
       "      <td>0</td>\n",
       "      <td>108.747053</td>\n",
       "    </tr>\n",
       "    <tr>\n",
       "      <th>2020-08-31 11:00:00</th>\n",
       "      <td>11585.0</td>\n",
       "      <td>11759.3</td>\n",
       "      <td>11576.0</td>\n",
       "      <td>11718.7</td>\n",
       "      <td>10596.0</td>\n",
       "      <td>11592.928571</td>\n",
       "      <td>11450.109524</td>\n",
       "      <td>True</td>\n",
       "      <td>False</td>\n",
       "      <td>False</td>\n",
       "      <td>1.247316</td>\n",
       "      <td>0</td>\n",
       "      <td>104.449186</td>\n",
       "    </tr>\n",
       "  </tbody>\n",
       "</table>\n",
       "</div>"
      ],
      "text/plain": [
       "                        open     high      low    close   volume  \\\n",
       "datetime                                                           \n",
       "2020-08-27 23:00:00  11271.4  11363.9  11257.3  11353.5   8270.0   \n",
       "2020-08-28 03:00:00  11353.5  11401.3  11338.8  11398.3   7714.0   \n",
       "2020-08-28 07:00:00  11398.3  11454.7  11367.9  11404.8   8362.0   \n",
       "2020-08-28 11:00:00  11404.8  11493.9  11404.0  11454.9   8984.0   \n",
       "2020-08-28 15:00:00  11454.9  11552.2  11414.9  11520.8  11624.0   \n",
       "2020-08-28 19:00:00  11520.8  11533.3  11469.5  11502.6   6022.0   \n",
       "2020-08-30 23:00:00  11502.6  11728.0  11502.6  11699.8   7044.0   \n",
       "2020-08-31 03:00:00  11699.8  11711.5  11650.1  11668.7   6994.0   \n",
       "2020-08-31 07:00:00  11668.7  11688.1  11579.1  11585.0   7401.0   \n",
       "2020-08-31 11:00:00  11585.0  11759.3  11576.0  11718.7  10596.0   \n",
       "\n",
       "                            SMA_7        SMA_21  sma_greater  bull_cross  \\\n",
       "datetime                                                                   \n",
       "2020-08-27 23:00:00  11352.714286  11446.742857        False       False   \n",
       "2020-08-28 03:00:00  11343.028571  11429.552381        False       False   \n",
       "2020-08-28 07:00:00  11347.685714  11414.109524        False       False   \n",
       "2020-08-28 11:00:00  11358.871429  11400.357143        False       False   \n",
       "2020-08-28 15:00:00  11382.457143  11392.538095        False       False   \n",
       "2020-08-28 19:00:00  11415.185714  11388.676190         True        True   \n",
       "2020-08-30 23:00:00  11476.385714  11398.480952         True       False   \n",
       "2020-08-31 03:00:00  11521.414286  11414.338095         True       False   \n",
       "2020-08-31 07:00:00  11548.085714  11429.709524         True       False   \n",
       "2020-08-31 11:00:00  11592.928571  11450.109524         True       False   \n",
       "\n",
       "                     bear_cross   sma_var  target  rolling_std  \n",
       "datetime                                                        \n",
       "2020-08-27 23:00:00       False -0.821444       0    66.712054  \n",
       "2020-08-28 03:00:00       False -0.757018       0    50.444746  \n",
       "2020-08-28 07:00:00       False -0.581945       0    54.895277  \n",
       "2020-08-28 11:00:00       False -0.363898       0    68.146869  \n",
       "2020-08-28 15:00:00       False -0.088487       0    91.451970  \n",
       "2020-08-28 19:00:00       False  0.232771      18    86.838268  \n",
       "2020-08-30 23:00:00       False  0.683466       0   115.005934  \n",
       "2020-08-31 03:00:00       False  0.938085       0   120.449899  \n",
       "2020-08-31 07:00:00       False  1.035689       0   108.747053  \n",
       "2020-08-31 11:00:00       False  1.247316       0   104.449186  "
      ]
     },
     "execution_count": 11,
     "metadata": {},
     "output_type": "execute_result"
    }
   ],
   "source": [
    "crosses[21]"
   ]
  },
  {
   "cell_type": "markdown",
   "id": "f84093cd-c874-4422-b590-1cdee0056cff",
   "metadata": {},
   "source": [
    "# 2. FEATURE EXTRACTION"
   ]
  },
  {
   "cell_type": "code",
   "execution_count": 14,
   "id": "dd30e56d-375e-4e72-8e2c-4760317e0bae",
   "metadata": {
    "tags": []
   },
   "outputs": [],
   "source": [
    "new_order = ['close', 'rolling_std', 'volume', 'SMA_7', 'SMA_21', 'sma_var', 'bull_cross', 'target']"
   ]
  },
  {
   "cell_type": "code",
   "execution_count": 29,
   "id": "6ebc2af7-503d-432e-b804-e90567f9d875",
   "metadata": {
    "tags": []
   },
   "outputs": [],
   "source": [
    "crosses = [cross.reindex(new_order, axis=1) for cross in crosses]"
   ]
  },
  {
   "cell_type": "code",
   "execution_count": 32,
   "id": "863739e7-f20e-416e-918b-f8f280ac031a",
   "metadata": {
    "tags": []
   },
   "outputs": [],
   "source": [
    "def calc_pvar(base_val, val):\n",
    "    return (val - base_val)/base_val"
   ]
  },
  {
   "cell_type": "code",
   "execution_count": 34,
   "id": "629e1c88-bdcd-4a98-ba9c-a355dea3d369",
   "metadata": {
    "tags": []
   },
   "outputs": [],
   "source": [
    "_ = crosses[1].copy()"
   ]
  },
  {
   "cell_type": "code",
   "execution_count": 37,
   "id": "ba9bb96a-0bad-4234-9485-8b5bdbd44ca8",
   "metadata": {
    "tags": []
   },
   "outputs": [],
   "source": [
    "# For each sample build a list of features\n",
    "p_close = list(); p_volat = list()\n",
    "p_slow = list(); p_fast = list()\n",
    "r_sma = list()\n",
    "\n",
    "target = list()\n",
    "\n",
    "for cross in crosses:\n",
    "    p_close.append(calc_pvar(cross.close.iloc[0], cross.close.iloc[-1]))\n",
    "    p_volat.append(calc_pvar(cross.rolling_std.iloc[0], cross.rolling_std.iloc[-1]))\n",
    "    p_slow.append(calc_pvar(cross.SMA_21.iloc[0], cross.SMA_21.iloc[-1]))\n",
    "    p_fast.append(calc_pvar(cross.SMA_7.iloc[0], cross.SMA_7.iloc[-1]))\n",
    "    r_sma.append(abs(cross.sma_var.iloc[-1] / cross.sma_var.iloc[0]))\n",
    "    \n",
    "    target.append(int(cross.target.iloc[loc]))"
   ]
  },
  {
   "cell_type": "code",
   "execution_count": 40,
   "id": "8a4754d7-c110-46af-b884-1a5b6dae192a",
   "metadata": {
    "tags": []
   },
   "outputs": [],
   "source": [
    "cols = ['p_close','p_volat','p_slow','p_fast','r_sma','target']\n",
    "dm = pd.DataFrame(data = zip(p_close, p_volat, p_slow, p_fast, r_sma, target), columns = cols)"
   ]
  },
  {
   "cell_type": "code",
   "execution_count": 41,
   "id": "38c35ad2-d7dc-46f1-aef0-2081846a9256",
   "metadata": {
    "tags": []
   },
   "outputs": [
    {
     "data": {
      "text/html": [
       "<div>\n",
       "<style scoped>\n",
       "    .dataframe tbody tr th:only-of-type {\n",
       "        vertical-align: middle;\n",
       "    }\n",
       "\n",
       "    .dataframe tbody tr th {\n",
       "        vertical-align: top;\n",
       "    }\n",
       "\n",
       "    .dataframe thead th {\n",
       "        text-align: right;\n",
       "    }\n",
       "</style>\n",
       "<table border=\"1\" class=\"dataframe\">\n",
       "  <thead>\n",
       "    <tr style=\"text-align: right;\">\n",
       "      <th></th>\n",
       "      <th>p_close</th>\n",
       "      <th>p_volat</th>\n",
       "      <th>p_slow</th>\n",
       "      <th>p_fast</th>\n",
       "      <th>r_sma</th>\n",
       "      <th>target</th>\n",
       "    </tr>\n",
       "  </thead>\n",
       "  <tbody>\n",
       "    <tr>\n",
       "      <th>0</th>\n",
       "      <td>0.064660</td>\n",
       "      <td>1.113011</td>\n",
       "      <td>0.002716</td>\n",
       "      <td>0.050326</td>\n",
       "      <td>1.195096</td>\n",
       "      <td>30</td>\n",
       "    </tr>\n",
       "    <tr>\n",
       "      <th>1</th>\n",
       "      <td>0.069369</td>\n",
       "      <td>1.508648</td>\n",
       "      <td>0.005474</td>\n",
       "      <td>0.057274</td>\n",
       "      <td>1.585582</td>\n",
       "      <td>29</td>\n",
       "    </tr>\n",
       "    <tr>\n",
       "      <th>2</th>\n",
       "      <td>0.063471</td>\n",
       "      <td>0.726905</td>\n",
       "      <td>0.006617</td>\n",
       "      <td>0.046855</td>\n",
       "      <td>2.163102</td>\n",
       "      <td>39</td>\n",
       "    </tr>\n",
       "    <tr>\n",
       "      <th>3</th>\n",
       "      <td>-0.004705</td>\n",
       "      <td>2.432785</td>\n",
       "      <td>-0.009283</td>\n",
       "      <td>0.032968</td>\n",
       "      <td>0.300207</td>\n",
       "      <td>7</td>\n",
       "    </tr>\n",
       "    <tr>\n",
       "      <th>4</th>\n",
       "      <td>0.007486</td>\n",
       "      <td>-0.144527</td>\n",
       "      <td>-0.007851</td>\n",
       "      <td>0.022708</td>\n",
       "      <td>0.401851</td>\n",
       "      <td>25</td>\n",
       "    </tr>\n",
       "    <tr>\n",
       "      <th>...</th>\n",
       "      <td>...</td>\n",
       "      <td>...</td>\n",
       "      <td>...</td>\n",
       "      <td>...</td>\n",
       "      <td>...</td>\n",
       "      <td>...</td>\n",
       "    </tr>\n",
       "    <tr>\n",
       "      <th>130</th>\n",
       "      <td>0.013298</td>\n",
       "      <td>2.451038</td>\n",
       "      <td>-0.005065</td>\n",
       "      <td>0.013932</td>\n",
       "      <td>0.884147</td>\n",
       "      <td>10</td>\n",
       "    </tr>\n",
       "    <tr>\n",
       "      <th>131</th>\n",
       "      <td>0.057387</td>\n",
       "      <td>10.235887</td>\n",
       "      <td>0.010046</td>\n",
       "      <td>0.043105</td>\n",
       "      <td>6.080082</td>\n",
       "      <td>14</td>\n",
       "    </tr>\n",
       "    <tr>\n",
       "      <th>132</th>\n",
       "      <td>0.003928</td>\n",
       "      <td>3.063911</td>\n",
       "      <td>0.001923</td>\n",
       "      <td>0.012417</td>\n",
       "      <td>2.991425</td>\n",
       "      <td>10</td>\n",
       "    </tr>\n",
       "    <tr>\n",
       "      <th>133</th>\n",
       "      <td>0.020224</td>\n",
       "      <td>-0.552834</td>\n",
       "      <td>0.002355</td>\n",
       "      <td>0.022410</td>\n",
       "      <td>0.929849</td>\n",
       "      <td>39</td>\n",
       "    </tr>\n",
       "    <tr>\n",
       "      <th>134</th>\n",
       "      <td>0.021448</td>\n",
       "      <td>2.058258</td>\n",
       "      <td>-0.001373</td>\n",
       "      <td>0.007075</td>\n",
       "      <td>0.896185</td>\n",
       "      <td>0</td>\n",
       "    </tr>\n",
       "  </tbody>\n",
       "</table>\n",
       "<p>135 rows × 6 columns</p>\n",
       "</div>"
      ],
      "text/plain": [
       "      p_close    p_volat    p_slow    p_fast     r_sma  target\n",
       "0    0.064660   1.113011  0.002716  0.050326  1.195096      30\n",
       "1    0.069369   1.508648  0.005474  0.057274  1.585582      29\n",
       "2    0.063471   0.726905  0.006617  0.046855  2.163102      39\n",
       "3   -0.004705   2.432785 -0.009283  0.032968  0.300207       7\n",
       "4    0.007486  -0.144527 -0.007851  0.022708  0.401851      25\n",
       "..        ...        ...       ...       ...       ...     ...\n",
       "130  0.013298   2.451038 -0.005065  0.013932  0.884147      10\n",
       "131  0.057387  10.235887  0.010046  0.043105  6.080082      14\n",
       "132  0.003928   3.063911  0.001923  0.012417  2.991425      10\n",
       "133  0.020224  -0.552834  0.002355  0.022410  0.929849      39\n",
       "134  0.021448   2.058258 -0.001373  0.007075  0.896185       0\n",
       "\n",
       "[135 rows x 6 columns]"
      ]
     },
     "execution_count": 41,
     "metadata": {},
     "output_type": "execute_result"
    }
   ],
   "source": [
    "dm"
   ]
  },
  {
   "cell_type": "code",
   "execution_count": 47,
   "id": "7f78f0d0-377b-412f-8358-8fb644d760a8",
   "metadata": {
    "tags": []
   },
   "outputs": [],
   "source": [
    "from matplotlib import pyplot as plt"
   ]
  },
  {
   "cell_type": "code",
   "execution_count": 49,
   "id": "0980e19d-09b9-4362-9f1b-7d5ee069df36",
   "metadata": {
    "tags": []
   },
   "outputs": [
    {
     "data": {
      "image/png": "[encoded data removed]",
      "text/plain": [
       "<Figure size 1800x300 with 5 Axes>"
      ]
     },
     "metadata": {},
     "output_type": "display_data"
    }
   ],
   "source": [
    "fig, axs = plt.subplots(ncols = 5, figsize = (18,3))\n",
    "axs[0].scatter(dm.p_close, dm.target)\n",
    "axs[1].scatter(dm.p_volat, dm.target)\n",
    "axs[2].scatter(dm.p_slow, dm.target)\n",
    "axs[3].scatter(dm.p_fast, dm.target)\n",
    "axs[4].scatter(dm.r_sma, dm.target)\n",
    "\n",
    "plt.show()"
   ]
  },
  {
   "cell_type": "markdown",
   "id": "56d7f761-b04e-48ae-a70f-db8b2ce5b906",
   "metadata": {},
   "source": [
    "# 3. ML"
   ]
  },
  {
   "cell_type": "code",
   "execution_count": 60,
   "id": "6cf46195-5d09-4cb0-b2eb-553517b99fd1",
   "metadata": {
    "tags": []
   },
   "outputs": [],
   "source": [
    "import numpy as np"
   ]
  },
  {
   "cell_type": "code",
   "execution_count": 61,
   "id": "dbed3ae9-3743-4561-9aab-e332d770777e",
   "metadata": {
    "tags": []
   },
   "outputs": [],
   "source": [
    "y = np.array(dm.target)\n",
    "\n",
    "features = ['p_close','p_volat','p_slow','p_fast','r_sma']\n",
    "X = np.array(dm[features])"
   ]
  },
  {
   "cell_type": "code",
   "execution_count": 110,
   "id": "25058fad-ee97-48fd-a5be-5f9c54b31419",
   "metadata": {
    "tags": []
   },
   "outputs": [],
   "source": [
    "# Split the data into training/testing sets\n",
    "X_tr = X[:-10]\n",
    "X_te = X[-10:]\n",
    "\n",
    "# Split the targets into training/testing sets\n",
    "y_tr = y[:-10]\n",
    "y_te = y[-10:]"
   ]
  },
  {
   "cell_type": "code",
   "execution_count": 111,
   "id": "be607311-2250-4b78-8fa8-d4db83c28c62",
   "metadata": {
    "tags": []
   },
   "outputs": [],
   "source": [
    "from sklearn.linear_model import ElasticNet\n",
    "from sklearn.metrics import r2_score"
   ]
  },
  {
   "cell_type": "code",
   "execution_count": 112,
   "id": "41c32002-5888-4138-9d4d-1337631f3a81",
   "metadata": {
    "tags": []
   },
   "outputs": [],
   "source": [
    "model = ElasticNet(alpha = 1., l1_ratio = 0.5)"
   ]
  },
  {
   "cell_type": "code",
   "execution_count": 113,
   "id": "34eb6638-aa62-428b-a6b5-383f2eda28af",
   "metadata": {
    "tags": []
   },
   "outputs": [
    {
     "data": {
      "text/html": [
       "<style>#sk-container-id-10 {color: black;}#sk-container-id-10 pre{padding: 0;}#sk-container-id-10 div.sk-toggleable {background-color: white;}#sk-container-id-10 label.sk-toggleable__label {cursor: pointer;display: block;width: 100%;margin-bottom: 0;padding: 0.3em;box-sizing: border-box;text-align: center;}#sk-container-id-10 label.sk-toggleable__label-arrow:before {content: \"▸\";float: left;margin-right: 0.25em;color: #696969;}#sk-container-id-10 label.sk-toggleable__label-arrow:hover:before {color: black;}#sk-container-id-10 div.sk-estimator:hover label.sk-toggleable__label-arrow:before {color: black;}#sk-container-id-10 div.sk-toggleable__content {max-height: 0;max-width: 0;overflow: hidden;text-align: left;background-color: #f0f8ff;}#sk-container-id-10 div.sk-toggleable__content pre {margin: 0.2em;color: black;border-radius: 0.25em;background-color: #f0f8ff;}#sk-container-id-10 input.sk-toggleable__control:checked~div.sk-toggleable__content {max-height: 200px;max-width: 100%;overflow: auto;}#sk-container-id-10 input.sk-toggleable__control:checked~label.sk-toggleable__label-arrow:before {content: \"▾\";}#sk-container-id-10 div.sk-estimator input.sk-toggleable__control:checked~label.sk-toggleable__label {background-color: #d4ebff;}#sk-container-id-10 div.sk-label input.sk-toggleable__control:checked~label.sk-toggleable__label {background-color: #d4ebff;}#sk-container-id-10 input.sk-hidden--visually {border: 0;clip: rect(1px 1px 1px 1px);clip: rect(1px, 1px, 1px, 1px);height: 1px;margin: -1px;overflow: hidden;padding: 0;position: absolute;width: 1px;}#sk-container-id-10 div.sk-estimator {font-family: monospace;background-color: #f0f8ff;border: 1px dotted black;border-radius: 0.25em;box-sizing: border-box;margin-bottom: 0.5em;}#sk-container-id-10 div.sk-estimator:hover {background-color: #d4ebff;}#sk-container-id-10 div.sk-parallel-item::after {content: \"\";width: 100%;border-bottom: 1px solid gray;flex-grow: 1;}#sk-container-id-10 div.sk-label:hover label.sk-toggleable__label {background-color: #d4ebff;}#sk-container-id-10 div.sk-serial::before {content: \"\";position: absolute;border-left: 1px solid gray;box-sizing: border-box;top: 0;bottom: 0;left: 50%;z-index: 0;}#sk-container-id-10 div.sk-serial {display: flex;flex-direction: column;align-items: center;background-color: white;padding-right: 0.2em;padding-left: 0.2em;position: relative;}#sk-container-id-10 div.sk-item {position: relative;z-index: 1;}#sk-container-id-10 div.sk-parallel {display: flex;align-items: stretch;justify-content: center;background-color: white;position: relative;}#sk-container-id-10 div.sk-item::before, #sk-container-id-10 div.sk-parallel-item::before {content: \"\";position: absolute;border-left: 1px solid gray;box-sizing: border-box;top: 0;bottom: 0;left: 50%;z-index: -1;}#sk-container-id-10 div.sk-parallel-item {display: flex;flex-direction: column;z-index: 1;position: relative;background-color: white;}#sk-container-id-10 div.sk-parallel-item:first-child::after {align-self: flex-end;width: 50%;}#sk-container-id-10 div.sk-parallel-item:last-child::after {align-self: flex-start;width: 50%;}#sk-container-id-10 div.sk-parallel-item:only-child::after {width: 0;}#sk-container-id-10 div.sk-dashed-wrapped {border: 1px dashed gray;margin: 0 0.4em 0.5em 0.4em;box-sizing: border-box;padding-bottom: 0.4em;background-color: white;}#sk-container-id-10 div.sk-label label {font-family: monospace;font-weight: bold;display: inline-block;line-height: 1.2em;}#sk-container-id-10 div.sk-label-container {text-align: center;}#sk-container-id-10 div.sk-container {/* jupyter's `normalize.less` sets `[hidden] { display: none; }` but bootstrap.min.css set `[hidden] { display: none !important; }` so we also need the `!important` here to be able to override the default hidden behavior on the sphinx rendered scikit-learn.org. See: https://github.com/scikit-learn/scikit-learn/issues/21755 */display: inline-block !important;position: relative;}#sk-container-id-10 div.sk-text-repr-fallback {display: none;}</style><div id=\"sk-container-id-10\" class=\"sk-top-container\"><div class=\"sk-text-repr-fallback\"><pre>ElasticNet()</pre><b>In a Jupyter environment, please rerun this cell to show the HTML representation or trust the notebook. <br />On GitHub, the HTML representation is unable to render, please try loading this page with nbviewer.org.</b></div><div class=\"sk-container\" hidden><div class=\"sk-item\"><div class=\"sk-estimator sk-toggleable\"><input class=\"sk-toggleable__control sk-hidden--visually\" id=\"sk-estimator-id-10\" type=\"checkbox\" checked><label for=\"sk-estimator-id-10\" class=\"sk-toggleable__label sk-toggleable__label-arrow\">ElasticNet</label><div class=\"sk-toggleable__content\"><pre>ElasticNet()</pre></div></div></div></div></div>"
      ],
      "text/plain": [
       "ElasticNet()"
      ]
     },
     "execution_count": 113,
     "metadata": {},
     "output_type": "execute_result"
    }
   ],
   "source": [
    "model.fit(X_tr, y_tr)"
   ]
  },
  {
   "cell_type": "code",
   "execution_count": 114,
   "id": "31a29091-d1b5-4eec-9ffd-1bbb3ece7283",
   "metadata": {
    "tags": []
   },
   "outputs": [],
   "source": [
    "y_tr_p = model.predict(X_tr)"
   ]
  },
  {
   "cell_type": "code",
   "execution_count": 115,
   "id": "37951d34-8019-48d8-974f-c17d395960b7",
   "metadata": {
    "tags": []
   },
   "outputs": [
    {
     "data": {
      "text/plain": [
       "-67.15866293141485"
      ]
     },
     "execution_count": 115,
     "metadata": {},
     "output_type": "execute_result"
    }
   ],
   "source": [
    "r2_score(y_tr_p, y_tr)"
   ]
  },
  {
   "cell_type": "code",
   "execution_count": null,
   "id": "d5e13708-c184-4c8b-98f9-36cf76a00804",
   "metadata": {},
   "outputs": [],
   "source": [
    "fig, ax = plt.subplots(ncols )"
   ]
  },
  {
   "cell_type": "code",
   "execution_count": null,
   "id": "43673ef1-9fc7-47ca-a078-fcfe27d1ac32",
   "metadata": {},
   "outputs": [],
   "source": []
  }
 ],
 "metadata": {
  "kernelspec": {
   "display_name": "Python 3 (ipykernel)",
   "language": "python",
   "name": "python3"
  },
  "language_info": {
   "codemirror_mode": {
    "name": "ipython",
    "version": 3
   },
   "file_extension": ".py",
   "mimetype": "text/x-python",
   "name": "python",
   "nbconvert_exporter": "python",
   "pygments_lexer": "ipython3",
   "version": "3.11.5"
  }
 },
 "nbformat": 4,
 "nbformat_minor": 5
}
