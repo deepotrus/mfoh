{
 "cells": [
  {
   "cell_type": "code",
   "execution_count": 2,
   "id": "b460e508-fed4-4372-bea7-ce20ca3f0311",
   "metadata": {
    "tags": []
   },
   "outputs": [],
   "source": [
    "import pandas as pd"
   ]
  },
  {
   "cell_type": "markdown",
   "id": "3711175a-6930-47c7-9f04-650e8e391e2b",
   "metadata": {},
   "source": [
    "### Crypto Downloader"
   ]
  },
  {
   "cell_type": "code",
   "execution_count": 18,
   "id": "19e3debe-6c09-4744-8cc7-749c32a74e9e",
   "metadata": {
    "tags": []
   },
   "outputs": [
    {
     "name": "stderr",
     "output_type": "stream",
     "text": [
      "WARNING:tvDatafeed.main:you are using nologin method, data you access may be limited\n"
     ]
    }
   ],
   "source": [
    "from tvDatafeed import TvDatafeed, Interval\n",
    "\n",
    "tv = TvDatafeed()"
   ]
  },
  {
   "cell_type": "code",
   "execution_count": 17,
   "id": "0151b588-f5b9-46ad-980d-6faa47024de3",
   "metadata": {
    "tags": []
   },
   "outputs": [
    {
     "data": {
      "text/plain": [
       "50"
      ]
     },
     "execution_count": 17,
     "metadata": {},
     "output_type": "execute_result"
    }
   ],
   "source": [
    "symbs = tv.search_symbol('BTCUSD')\n",
    "len(symbs)"
   ]
  },
  {
   "cell_type": "code",
   "execution_count": null,
   "id": "f3855c87-bd15-4ffc-aac5-7c7b8f109ac3",
   "metadata": {
    "tags": []
   },
   "outputs": [],
   "source": [
    "_ = tv.get_hist(\n",
    "    symbol='BTC',\n",
    "    exchange='MIL',\n",
    "    interval=Interval.in_4_hour,\n",
    "    n_bars=30000\n",
    ")"
   ]
  },
  {
   "cell_type": "code",
   "execution_count": null,
   "id": "87f5523a-b6ff-4603-810e-45f4a9f345df",
   "metadata": {
    "tags": []
   },
   "outputs": [],
   "source": [
    "_"
   ]
  },
  {
   "cell_type": "code",
   "execution_count": 18,
   "id": "59176329-8249-4470-a724-f6dd19e8b2df",
   "metadata": {
    "tags": []
   },
   "outputs": [
    {
     "name": "stdout",
     "output_type": "stream",
     "text": [
      "0: BITSTAMP\n",
      "1: COINBASE\n",
      "2: INDEX\n",
      "3: BINANCE\n",
      "4: BITFINEX\n",
      "5: CRYPTO\n",
      "7: KRAKEN\n",
      "8: OANDA\n",
      "9: GEMINI\n",
      "11: EIGHTCAP\n",
      "12: BINANCE\n",
      "13: PEPPERSTONE\n",
      "14: CAPITALCOM\n",
      "15: FOREX.com\n"
     ]
    },
    {
     "name": "stderr",
     "output_type": "stream",
     "text": [
      "ERROR:tvDatafeed.main:The read operation timed out\n",
      "ERROR:tvDatafeed.main:no data, please check the exchange and symbol\n"
     ]
    },
    {
     "name": "stdout",
     "output_type": "stream",
     "text": [
      "16: FXCM\n"
     ]
    },
    {
     "name": "stderr",
     "output_type": "stream",
     "text": [
      "ERROR:tvDatafeed.main:The read operation timed out\n",
      "ERROR:tvDatafeed.main:no data, please check the exchange and symbol\n"
     ]
    },
    {
     "name": "stdout",
     "output_type": "stream",
     "text": [
      "17: BYBIT\n"
     ]
    },
    {
     "name": "stderr",
     "output_type": "stream",
     "text": [
      "ERROR:tvDatafeed.main:The read operation timed out\n",
      "ERROR:tvDatafeed.main:no data, please check the exchange and symbol\n"
     ]
    },
    {
     "name": "stdout",
     "output_type": "stream",
     "text": [
      "18: VANTAGE\n",
      "20: BITTREX\n",
      "21: SAXO\n",
      "22: KRAKEN\n",
      "23: PYTH\n",
      "24: EASYMARKETS\n",
      "25: TradeStation\n",
      "33: BLACKBULL\n",
      "35: OKCOIN\n",
      "36: OKX\n"
     ]
    },
    {
     "name": "stderr",
     "output_type": "stream",
     "text": [
      "ERROR:tvDatafeed.main:The read operation timed out\n",
      "ERROR:tvDatafeed.main:no data, please check the exchange and symbol\n"
     ]
    },
    {
     "name": "stdout",
     "output_type": "stream",
     "text": [
      "37: DERIBIT\n"
     ]
    },
    {
     "name": "stderr",
     "output_type": "stream",
     "text": [
      "ERROR:tvDatafeed.main:The read operation timed out\n",
      "ERROR:tvDatafeed.main:no data, please check the exchange and symbol\n"
     ]
    },
    {
     "name": "stdout",
     "output_type": "stream",
     "text": [
      "38: SKILLING\n",
      "39: BTSE\n",
      "40: BTSE\n",
      "41: TIMEX\n",
      "42: EXMO\n",
      "43: VELOCITY\n",
      "44: WHITEBIT\n",
      "45: CITYINDEX\n",
      "46: BINANCE\n",
      "47: BINANCE\n",
      "48: OKX\n",
      "49: BYBIT\n"
     ]
    }
   ],
   "source": [
    "df = list()\n",
    "for i, symb in enumerate(symbs):\n",
    "    if 'BTCUSD' in symb['symbol']:\n",
    "        print(f'{i}:', symb['exchange'])\n",
    "        df.append(\n",
    "            tv.get_hist(\n",
    "                symbol=symb['symbol'],\n",
    "                exchange=symb['exchange'],\n",
    "                interval=Interval.in_4_hour,\n",
    "                n_bars=30000\n",
    "            )\n",
    "        )"
   ]
  },
  {
   "cell_type": "code",
   "execution_count": 19,
   "id": "dfdbac41-41d8-4caa-b92c-5e61e60d76ec",
   "metadata": {
    "tags": []
   },
   "outputs": [
    {
     "name": "stdout",
     "output_type": "stream",
     "text": [
      "2021-01-01 01:00:00 2023-09-28 14:00:00\n"
     ]
    }
   ],
   "source": [
    "print(df[0].index[0], df[0].index[-1])"
   ]
  },
  {
   "cell_type": "code",
   "execution_count": 20,
   "id": "b8e07a36-b8cc-4b3d-a3a2-61b9c008d7a2",
   "metadata": {
    "tags": []
   },
   "outputs": [
    {
     "data": {
      "text/plain": [
       "3159344.72327724"
      ]
     },
     "execution_count": 20,
     "metadata": {},
     "output_type": "execute_result"
    }
   ],
   "source": [
    "df[0].volume.sum()"
   ]
  },
  {
   "cell_type": "code",
   "execution_count": 21,
   "id": "cf740198-5b97-4876-b5a2-28cf1d185a4b",
   "metadata": {
    "tags": []
   },
   "outputs": [
    {
     "data": {
      "text/plain": [
       "'BITSTAMP:BTCUSD'"
      ]
     },
     "execution_count": 21,
     "metadata": {},
     "output_type": "execute_result"
    }
   ],
   "source": [
    "df[0].symbol.iloc[0]"
   ]
  },
  {
   "cell_type": "code",
   "execution_count": 22,
   "id": "05f6f80a-c715-443a-989b-f4f38f98381f",
   "metadata": {
    "tags": []
   },
   "outputs": [],
   "source": [
    "s = list(); e = list(); sy = list(); vol = list()\n",
    "for d in df:\n",
    "    try:\n",
    "        s.append(d.index[0])\n",
    "        e.append(d.index[-1])\n",
    "        sy.append(d.symbol.iloc[0])\n",
    "        vol.append(d.volume.sum())\n",
    "    except AttributeError:\n",
    "        continue"
   ]
  },
  {
   "cell_type": "code",
   "execution_count": 23,
   "id": "4930b7a8-65df-480d-9b17-3245078897dd",
   "metadata": {
    "tags": []
   },
   "outputs": [
    {
     "data": {
      "text/html": [
       "<div>\n",
       "<style scoped>\n",
       "    .dataframe tbody tr th:only-of-type {\n",
       "        vertical-align: middle;\n",
       "    }\n",
       "\n",
       "    .dataframe tbody tr th {\n",
       "        vertical-align: top;\n",
       "    }\n",
       "\n",
       "    .dataframe thead th {\n",
       "        text-align: right;\n",
       "    }\n",
       "</style>\n",
       "<table border=\"1\" class=\"dataframe\">\n",
       "  <thead>\n",
       "    <tr style=\"text-align: right;\">\n",
       "      <th></th>\n",
       "      <th>start</th>\n",
       "      <th>end</th>\n",
       "      <th>symb</th>\n",
       "      <th>vol</th>\n",
       "    </tr>\n",
       "  </thead>\n",
       "  <tbody>\n",
       "    <tr>\n",
       "      <th>0</th>\n",
       "      <td>2020-01-01 23:00:00</td>\n",
       "      <td>2023-09-28 11:00:00</td>\n",
       "      <td>OANDA:BTCUSD</td>\n",
       "      <td>9.475571e+08</td>\n",
       "    </tr>\n",
       "    <tr>\n",
       "      <th>1</th>\n",
       "      <td>2020-12-31 23:00:00</td>\n",
       "      <td>2023-09-28 11:00:00</td>\n",
       "      <td>CAPITALCOM:BTCUSD</td>\n",
       "      <td>5.753509e+08</td>\n",
       "    </tr>\n",
       "    <tr>\n",
       "      <th>2</th>\n",
       "      <td>2021-01-01 01:00:00</td>\n",
       "      <td>2023-09-28 14:00:00</td>\n",
       "      <td>BINANCE:BTCUSDT.P</td>\n",
       "      <td>4.459750e+08</td>\n",
       "    </tr>\n",
       "    <tr>\n",
       "      <th>3</th>\n",
       "      <td>2021-01-01 01:00:00</td>\n",
       "      <td>2023-09-28 14:00:00</td>\n",
       "      <td>BINANCE:BTCUSD</td>\n",
       "      <td>3.891358e+08</td>\n",
       "    </tr>\n",
       "    <tr>\n",
       "      <th>4</th>\n",
       "      <td>2021-01-01 01:00:00</td>\n",
       "      <td>2023-09-28 14:00:00</td>\n",
       "      <td>BINANCE:BTCUSD</td>\n",
       "      <td>3.891358e+08</td>\n",
       "    </tr>\n",
       "    <tr>\n",
       "      <th>5</th>\n",
       "      <td>2020-11-24 21:00:00</td>\n",
       "      <td>2023-09-28 13:00:00</td>\n",
       "      <td>VELOCITY:BTCUSD</td>\n",
       "      <td>2.349476e+08</td>\n",
       "    </tr>\n",
       "    <tr>\n",
       "      <th>6</th>\n",
       "      <td>2020-12-31 22:00:00</td>\n",
       "      <td>2023-09-28 11:00:00</td>\n",
       "      <td>PEPPERSTONE:BTCUSD</td>\n",
       "      <td>1.821679e+08</td>\n",
       "    </tr>\n",
       "    <tr>\n",
       "      <th>7</th>\n",
       "      <td>2021-01-01 01:00:00</td>\n",
       "      <td>2023-09-28 14:00:00</td>\n",
       "      <td>SKILLING:BTCUSD</td>\n",
       "      <td>1.552786e+08</td>\n",
       "    </tr>\n",
       "    <tr>\n",
       "      <th>8</th>\n",
       "      <td>2020-01-01 19:00:00</td>\n",
       "      <td>2023-09-28 11:00:00</td>\n",
       "      <td>BLACKBULL:BTCUSD</td>\n",
       "      <td>1.280459e+08</td>\n",
       "    </tr>\n",
       "    <tr>\n",
       "      <th>9</th>\n",
       "      <td>2021-01-01 01:00:00</td>\n",
       "      <td>2023-09-28 14:00:00</td>\n",
       "      <td>BINANCE:BTCUSDT</td>\n",
       "      <td>1.121054e+08</td>\n",
       "    </tr>\n",
       "    <tr>\n",
       "      <th>10</th>\n",
       "      <td>2021-01-01 01:00:00</td>\n",
       "      <td>2023-09-28 14:00:00</td>\n",
       "      <td>BYBIT:BTCUSDT.P</td>\n",
       "      <td>1.044461e+08</td>\n",
       "    </tr>\n",
       "    <tr>\n",
       "      <th>11</th>\n",
       "      <td>2021-01-03 19:00:00</td>\n",
       "      <td>2023-09-28 11:00:00</td>\n",
       "      <td>EIGHTCAP:BTCUSD</td>\n",
       "      <td>4.370838e+07</td>\n",
       "    </tr>\n",
       "    <tr>\n",
       "      <th>12</th>\n",
       "      <td>2021-01-01 01:00:00</td>\n",
       "      <td>2023-09-28 14:00:00</td>\n",
       "      <td>INDEX:BTCUSD</td>\n",
       "      <td>2.833182e+07</td>\n",
       "    </tr>\n",
       "    <tr>\n",
       "      <th>13</th>\n",
       "      <td>2021-01-01 01:00:00</td>\n",
       "      <td>2023-09-28 14:00:00</td>\n",
       "      <td>COINBASE:BTCUSD</td>\n",
       "      <td>1.902536e+07</td>\n",
       "    </tr>\n",
       "    <tr>\n",
       "      <th>14</th>\n",
       "      <td>2021-01-01 01:00:00</td>\n",
       "      <td>2023-09-28 14:00:00</td>\n",
       "      <td>OKX:BTCUSDT</td>\n",
       "      <td>1.278147e+07</td>\n",
       "    </tr>\n",
       "    <tr>\n",
       "      <th>15</th>\n",
       "      <td>2021-01-01 01:00:00</td>\n",
       "      <td>2023-09-28 14:00:00</td>\n",
       "      <td>BITFINEX:BTCUSD</td>\n",
       "      <td>5.575665e+06</td>\n",
       "    </tr>\n",
       "    <tr>\n",
       "      <th>16</th>\n",
       "      <td>2021-01-01 01:00:00</td>\n",
       "      <td>2023-09-28 14:00:00</td>\n",
       "      <td>BTSE:BTCUSD</td>\n",
       "      <td>4.415312e+06</td>\n",
       "    </tr>\n",
       "    <tr>\n",
       "      <th>17</th>\n",
       "      <td>2021-01-01 01:00:00</td>\n",
       "      <td>2023-09-28 14:00:00</td>\n",
       "      <td>BTSE:BTCUSD</td>\n",
       "      <td>4.415312e+06</td>\n",
       "    </tr>\n",
       "    <tr>\n",
       "      <th>18</th>\n",
       "      <td>2021-01-01 01:00:00</td>\n",
       "      <td>2023-09-28 14:00:00</td>\n",
       "      <td>KRAKEN:BTCUSD</td>\n",
       "      <td>4.061347e+06</td>\n",
       "    </tr>\n",
       "    <tr>\n",
       "      <th>19</th>\n",
       "      <td>2021-01-01 01:00:00</td>\n",
       "      <td>2023-09-28 14:00:00</td>\n",
       "      <td>KRAKEN:BTCUSD</td>\n",
       "      <td>4.061347e+06</td>\n",
       "    </tr>\n",
       "    <tr>\n",
       "      <th>20</th>\n",
       "      <td>2021-01-01 01:00:00</td>\n",
       "      <td>2023-09-28 14:00:00</td>\n",
       "      <td>BITSTAMP:BTCUSD</td>\n",
       "      <td>3.159345e+06</td>\n",
       "    </tr>\n",
       "    <tr>\n",
       "      <th>21</th>\n",
       "      <td>2021-01-01 01:00:00</td>\n",
       "      <td>2023-09-28 14:00:00</td>\n",
       "      <td>GEMINI:BTCUSD</td>\n",
       "      <td>1.341420e+06</td>\n",
       "    </tr>\n",
       "    <tr>\n",
       "      <th>22</th>\n",
       "      <td>2021-01-01 01:00:00</td>\n",
       "      <td>2023-09-28 14:00:00</td>\n",
       "      <td>OKCOIN:BTCUSD</td>\n",
       "      <td>4.792748e+05</td>\n",
       "    </tr>\n",
       "    <tr>\n",
       "      <th>23</th>\n",
       "      <td>2021-01-01 01:00:00</td>\n",
       "      <td>2023-09-28 10:00:00</td>\n",
       "      <td>BITTREX:BTCUSD</td>\n",
       "      <td>2.490473e+05</td>\n",
       "    </tr>\n",
       "    <tr>\n",
       "      <th>24</th>\n",
       "      <td>2021-01-01 01:00:00</td>\n",
       "      <td>2023-09-28 14:00:00</td>\n",
       "      <td>EXMO:BTCUSD</td>\n",
       "      <td>1.285638e+05</td>\n",
       "    </tr>\n",
       "    <tr>\n",
       "      <th>25</th>\n",
       "      <td>2021-01-12 09:00:00</td>\n",
       "      <td>2023-08-31 18:00:00</td>\n",
       "      <td>TIMEX:BTCUSD</td>\n",
       "      <td>1.047267e+05</td>\n",
       "    </tr>\n",
       "    <tr>\n",
       "      <th>26</th>\n",
       "      <td>2022-07-07 10:00:00</td>\n",
       "      <td>2023-09-28 14:00:00</td>\n",
       "      <td>WHITEBIT:BTCUSD</td>\n",
       "      <td>4.940674e+04</td>\n",
       "    </tr>\n",
       "  </tbody>\n",
       "</table>\n",
       "</div>"
      ],
      "text/plain": [
       "                 start                 end                symb           vol\n",
       "0  2020-01-01 23:00:00 2023-09-28 11:00:00        OANDA:BTCUSD  9.475571e+08\n",
       "1  2020-12-31 23:00:00 2023-09-28 11:00:00   CAPITALCOM:BTCUSD  5.753509e+08\n",
       "2  2021-01-01 01:00:00 2023-09-28 14:00:00   BINANCE:BTCUSDT.P  4.459750e+08\n",
       "3  2021-01-01 01:00:00 2023-09-28 14:00:00      BINANCE:BTCUSD  3.891358e+08\n",
       "4  2021-01-01 01:00:00 2023-09-28 14:00:00      BINANCE:BTCUSD  3.891358e+08\n",
       "5  2020-11-24 21:00:00 2023-09-28 13:00:00     VELOCITY:BTCUSD  2.349476e+08\n",
       "6  2020-12-31 22:00:00 2023-09-28 11:00:00  PEPPERSTONE:BTCUSD  1.821679e+08\n",
       "7  2021-01-01 01:00:00 2023-09-28 14:00:00     SKILLING:BTCUSD  1.552786e+08\n",
       "8  2020-01-01 19:00:00 2023-09-28 11:00:00    BLACKBULL:BTCUSD  1.280459e+08\n",
       "9  2021-01-01 01:00:00 2023-09-28 14:00:00     BINANCE:BTCUSDT  1.121054e+08\n",
       "10 2021-01-01 01:00:00 2023-09-28 14:00:00     BYBIT:BTCUSDT.P  1.044461e+08\n",
       "11 2021-01-03 19:00:00 2023-09-28 11:00:00     EIGHTCAP:BTCUSD  4.370838e+07\n",
       "12 2021-01-01 01:00:00 2023-09-28 14:00:00        INDEX:BTCUSD  2.833182e+07\n",
       "13 2021-01-01 01:00:00 2023-09-28 14:00:00     COINBASE:BTCUSD  1.902536e+07\n",
       "14 2021-01-01 01:00:00 2023-09-28 14:00:00         OKX:BTCUSDT  1.278147e+07\n",
       "15 2021-01-01 01:00:00 2023-09-28 14:00:00     BITFINEX:BTCUSD  5.575665e+06\n",
       "16 2021-01-01 01:00:00 2023-09-28 14:00:00         BTSE:BTCUSD  4.415312e+06\n",
       "17 2021-01-01 01:00:00 2023-09-28 14:00:00         BTSE:BTCUSD  4.415312e+06\n",
       "18 2021-01-01 01:00:00 2023-09-28 14:00:00       KRAKEN:BTCUSD  4.061347e+06\n",
       "19 2021-01-01 01:00:00 2023-09-28 14:00:00       KRAKEN:BTCUSD  4.061347e+06\n",
       "20 2021-01-01 01:00:00 2023-09-28 14:00:00     BITSTAMP:BTCUSD  3.159345e+06\n",
       "21 2021-01-01 01:00:00 2023-09-28 14:00:00       GEMINI:BTCUSD  1.341420e+06\n",
       "22 2021-01-01 01:00:00 2023-09-28 14:00:00       OKCOIN:BTCUSD  4.792748e+05\n",
       "23 2021-01-01 01:00:00 2023-09-28 10:00:00      BITTREX:BTCUSD  2.490473e+05\n",
       "24 2021-01-01 01:00:00 2023-09-28 14:00:00         EXMO:BTCUSD  1.285638e+05\n",
       "25 2021-01-12 09:00:00 2023-08-31 18:00:00        TIMEX:BTCUSD  1.047267e+05\n",
       "26 2022-07-07 10:00:00 2023-09-28 14:00:00     WHITEBIT:BTCUSD  4.940674e+04"
      ]
     },
     "execution_count": 23,
     "metadata": {},
     "output_type": "execute_result"
    }
   ],
   "source": [
    "dfv = pd.DataFrame(zip(s, e, sy, vol), columns = ['start','end','symb','vol'])\n",
    "dfv = dfv[ (dfv.symb != 'CRYPTOCAP:BTC') & (dfv.vol != 0.)].sort_values(by='vol', ascending=False).reset_index(drop=True)\n",
    "# Data cleaning: remove cryptocap (total crypto marketcap)\n",
    "# Data cleaning: remove markets with 0 total volume\n",
    "dfv"
   ]
  },
  {
   "cell_type": "code",
   "execution_count": null,
   "id": "cbb54a93-a29c-4232-b2b2-7619f674d153",
   "metadata": {},
   "outputs": [],
   "source": [
    "exs = [\n",
    "    'OKX:BTCUSDT',\n",
    "    'BINANCE:BTCUSDT',\n",
    "    'BYBIT:BTCUSDT.P',\n",
    "    'BINANCE:BTCUSDT.P',\n",
    "    'BINANCE:BTCUSD',\n",
    "    'INDEX:BTCUSD',\n",
    "    'COINBASE:BTCUSD',\n",
    "    'BITFINEX:BTCUSD',\n",
    "    'BTSE:BTCUSD',\n",
    "    'KRAKEN:BTCUSD',\n",
    "    'BITSTAMP:BTCUSD',\n",
    "    'GEMINI:BTCUSD',\n",
    "    'SKILLING:BTCUSD'\n",
    "]"
   ]
  },
  {
   "cell_type": "code",
   "execution_count": null,
   "id": "b0a91b17-5c5d-4945-a642-2a30d56e4147",
   "metadata": {},
   "outputs": [],
   "source": [
    "mks = [\n",
    "    'OKX',\n",
    "    'BINANCE',\n",
    "    'BYBIT',\n",
    "    'BINANCE',\n",
    "    'BINANCE',\n",
    "    'INDEX',\n",
    "    'COINBASE',\n",
    "    'BITFINEX',\n",
    "    'BTSE',\n",
    "    'KRAKEN',\n",
    "    'BITSTAMP',\n",
    "    'GEMINI',\n",
    "    'SKILLING'\n",
    "]"
   ]
  },
  {
   "cell_type": "markdown",
   "id": "19947842-5c00-49d1-93b7-851c7027db6e",
   "metadata": {},
   "source": [
    "### A random altcoin"
   ]
  },
  {
   "cell_type": "code",
   "execution_count": 13,
   "id": "791a5376-e9d7-47af-88f0-b3a337364570",
   "metadata": {
    "tags": []
   },
   "outputs": [
    {
     "data": {
      "text/plain": [
       "39"
      ]
     },
     "execution_count": 13,
     "metadata": {},
     "output_type": "execute_result"
    }
   ],
   "source": [
    "name = 'vet'\n",
    "pair = 'usd'\n",
    "asset = name + pair\n",
    "symbs = tv.search_symbol(asset)\n",
    "len(symbs)"
   ]
  },
  {
   "cell_type": "code",
   "execution_count": 28,
   "id": "080ec4cc-ce83-4bde-81a6-5bb906d7d49f",
   "metadata": {
    "tags": []
   },
   "outputs": [],
   "source": [
    "_ = tv.get_hist(\n",
    "    symbol='VETUSD',\n",
    "    exchange='BINANCE',\n",
    "    interval=Interval.in_4_hour,\n",
    "    n_bars=30000\n",
    ")"
   ]
  },
  {
   "cell_type": "code",
   "execution_count": 5,
   "id": "6d44463d-ef5e-4047-9c57-ad9ad396fd4b",
   "metadata": {
    "tags": []
   },
   "outputs": [],
   "source": [
    "df_usd = list(); df_usdt = list()\n",
    "for el in symbs:\n",
    "    if 'VETUSD' == el['symbol']:\n",
    "        df_usd.append(\n",
    "            tv.get_hist(\n",
    "                symbol = el['symbol'],\n",
    "                exchange = el['exchange'],\n",
    "                interval = Interval.in_4_hour,\n",
    "                n_bars = 20000\n",
    "            )\n",
    "        )\n",
    "    elif 'VETUSDT' == el['symbol']:\n",
    "        df_usdt.append(\n",
    "            tv.get_hist(\n",
    "                symbol = el['symbol'],\n",
    "                exchange = el['exchange'],\n",
    "                interval = Interval.in_4_hour,\n",
    "                n_bars = 20000\n",
    "            )\n",
    "        )"
   ]
  },
  {
   "cell_type": "code",
   "execution_count": 6,
   "id": "63917f6e-f45b-4e84-aa33-4bfa96cf9d92",
   "metadata": {
    "tags": []
   },
   "outputs": [],
   "source": [
    "def create_market_leaderboard(df):\n",
    "    s = list(); e = list(); sy = list(); vol = list()\n",
    "    for d in df:\n",
    "        try:\n",
    "            s.append(d.index[0])\n",
    "            e.append(d.index[-1])\n",
    "            sy.append(d.symbol.iloc[0])\n",
    "            vol.append(d.volume.sum())\n",
    "        except AttributeError:\n",
    "            continue\n",
    "\n",
    "    dfv = pd.DataFrame(zip(s, e, sy, vol), columns = ['start','end','symb','vol'])\n",
    "    dfv = dfv[ dfv.vol != 0. ].sort_values(by='vol', ascending=False).reset_index(drop=True)\n",
    "    \n",
    "    return dfv"
   ]
  },
  {
   "cell_type": "code",
   "execution_count": 7,
   "id": "65e0044f-5d92-40a4-a1c6-5f6e7359a715",
   "metadata": {
    "tags": []
   },
   "outputs": [],
   "source": [
    "dfv_usd = create_market_leaderboard(df_usd)\n",
    "dfv_usdt = create_market_leaderboard(df_usdt)"
   ]
  },
  {
   "cell_type": "code",
   "execution_count": 8,
   "id": "7ffd2969-4077-4e8b-a784-66ee088bf810",
   "metadata": {
    "tags": []
   },
   "outputs": [
    {
     "data": {
      "text/html": [
       "<div>\n",
       "<style scoped>\n",
       "    .dataframe tbody tr th:only-of-type {\n",
       "        vertical-align: middle;\n",
       "    }\n",
       "\n",
       "    .dataframe tbody tr th {\n",
       "        vertical-align: top;\n",
       "    }\n",
       "\n",
       "    .dataframe thead th {\n",
       "        text-align: right;\n",
       "    }\n",
       "</style>\n",
       "<table border=\"1\" class=\"dataframe\">\n",
       "  <thead>\n",
       "    <tr style=\"text-align: right;\">\n",
       "      <th></th>\n",
       "      <th>start</th>\n",
       "      <th>end</th>\n",
       "      <th>symb</th>\n",
       "      <th>vol</th>\n",
       "    </tr>\n",
       "  </thead>\n",
       "  <tbody>\n",
       "    <tr>\n",
       "      <th>0</th>\n",
       "      <td>2021-01-01 01:00:00</td>\n",
       "      <td>2023-09-28 14:00:00</td>\n",
       "      <td>BINANCE:VETUSD</td>\n",
       "      <td>1.587746e+11</td>\n",
       "    </tr>\n",
       "    <tr>\n",
       "      <th>1</th>\n",
       "      <td>2021-01-01 01:00:00</td>\n",
       "      <td>2023-09-28 14:00:00</td>\n",
       "      <td>BITFINEX:VETUSD</td>\n",
       "      <td>3.877622e+09</td>\n",
       "    </tr>\n",
       "  </tbody>\n",
       "</table>\n",
       "</div>"
      ],
      "text/plain": [
       "                start                 end             symb           vol\n",
       "0 2021-01-01 01:00:00 2023-09-28 14:00:00   BINANCE:VETUSD  1.587746e+11\n",
       "1 2021-01-01 01:00:00 2023-09-28 14:00:00  BITFINEX:VETUSD  3.877622e+09"
      ]
     },
     "execution_count": 8,
     "metadata": {},
     "output_type": "execute_result"
    }
   ],
   "source": [
    "dfv_usd"
   ]
  },
  {
   "cell_type": "code",
   "execution_count": 9,
   "id": "678f3195-1307-404f-b665-ba4fa93b8f45",
   "metadata": {
    "tags": []
   },
   "outputs": [
    {
     "data": {
      "text/html": [
       "<div>\n",
       "<style scoped>\n",
       "    .dataframe tbody tr th:only-of-type {\n",
       "        vertical-align: middle;\n",
       "    }\n",
       "\n",
       "    .dataframe tbody tr th {\n",
       "        vertical-align: top;\n",
       "    }\n",
       "\n",
       "    .dataframe thead th {\n",
       "        text-align: right;\n",
       "    }\n",
       "</style>\n",
       "<table border=\"1\" class=\"dataframe\">\n",
       "  <thead>\n",
       "    <tr style=\"text-align: right;\">\n",
       "      <th></th>\n",
       "      <th>start</th>\n",
       "      <th>end</th>\n",
       "      <th>symb</th>\n",
       "      <th>vol</th>\n",
       "    </tr>\n",
       "  </thead>\n",
       "  <tbody>\n",
       "    <tr>\n",
       "      <th>0</th>\n",
       "      <td>2021-01-01 01:00:00</td>\n",
       "      <td>2023-09-28 14:00:00</td>\n",
       "      <td>BINANCE:VETUSDT</td>\n",
       "      <td>1.014102e+12</td>\n",
       "    </tr>\n",
       "  </tbody>\n",
       "</table>\n",
       "</div>"
      ],
      "text/plain": [
       "                start                 end             symb           vol\n",
       "0 2021-01-01 01:00:00 2023-09-28 14:00:00  BINANCE:VETUSDT  1.014102e+12"
      ]
     },
     "execution_count": 9,
     "metadata": {},
     "output_type": "execute_result"
    }
   ],
   "source": [
    "dfv_usdt"
   ]
  },
  {
   "cell_type": "code",
   "execution_count": null,
   "id": "2556bb29-32a4-4dee-9cae-7c109bf7bbd3",
   "metadata": {},
   "outputs": [],
   "source": []
  }
 ],
 "metadata": {
  "kernelspec": {
   "display_name": "Python 3 (ipykernel)",
   "language": "python",
   "name": "python3"
  },
  "language_info": {
   "codemirror_mode": {
    "name": "ipython",
    "version": 3
   },
   "file_extension": ".py",
   "mimetype": "text/x-python",
   "name": "python",
   "nbconvert_exporter": "python",
   "pygments_lexer": "ipython3",
   "version": "3.11.5"
  }
 },
 "nbformat": 4,
 "nbformat_minor": 5
}
