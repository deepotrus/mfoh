{
 "cells": [
  {
   "cell_type": "code",
   "execution_count": 11,
   "id": "d161c9b6-d2d8-4bd3-af01-21fb67f549f3",
   "metadata": {
    "tags": []
   },
   "outputs": [],
   "source": [
    "import pickle"
   ]
  },
  {
   "cell_type": "code",
   "execution_count": 12,
   "id": "7b7ac5c8-b185-4676-a232-0e701922e887",
   "metadata": {
    "tags": []
   },
   "outputs": [],
   "source": [
    "with open('maps_usd.pkl', 'rb') as pkl_file:\n",
    "    mapp = pickle.load(pkl_file)"
   ]
  },
  {
   "cell_type": "code",
   "execution_count": 13,
   "id": "64c8bab8-8717-4494-80a1-6eacfb5e719a",
   "metadata": {
    "tags": []
   },
   "outputs": [
    {
     "data": {
      "text/plain": [
       "{'btc': 'BTCUSD',\n",
       " 'bnb': 'BNBUSD',\n",
       " 'doge': 'DOGEUSD',\n",
       " 'eth': 'ETHUSD',\n",
       " 'vet': 'VETUSD'}"
      ]
     },
     "execution_count": 13,
     "metadata": {},
     "output_type": "execute_result"
    }
   ],
   "source": [
    "mapp"
   ]
  },
  {
   "cell_type": "code",
   "execution_count": 14,
   "id": "a1d132a9-e8e4-44c0-b35d-b80889d6307c",
   "metadata": {
    "tags": []
   },
   "outputs": [],
   "source": [
    "mapp.update({'aapl': 'AAPLUSD'})"
   ]
  },
  {
   "cell_type": "code",
   "execution_count": 15,
   "id": "bba8eb63-1023-4af1-abf1-994f9218772d",
   "metadata": {
    "tags": []
   },
   "outputs": [
    {
     "data": {
      "text/plain": [
       "{'btc': 'BTCUSD',\n",
       " 'bnb': 'BNBUSD',\n",
       " 'doge': 'DOGEUSD',\n",
       " 'eth': 'ETHUSD',\n",
       " 'vet': 'VETUSD',\n",
       " 'aapl': 'AAPLUSD'}"
      ]
     },
     "execution_count": 15,
     "metadata": {},
     "output_type": "execute_result"
    }
   ],
   "source": [
    "mapp"
   ]
  },
  {
   "cell_type": "code",
   "execution_count": 16,
   "id": "22d22e16-d952-4b12-919c-77b184700ddf",
   "metadata": {
    "tags": []
   },
   "outputs": [],
   "source": [
    "with open('maps_usd.pkl', 'wb') as pkl_file:\n",
    "    pickle.dump(mapp, pkl_file)"
   ]
  },
  {
   "cell_type": "code",
   "execution_count": null,
   "id": "77505950-c521-4d78-b87b-c18babd77ea3",
   "metadata": {},
   "outputs": [],
   "source": []
  }
 ],
 "metadata": {
  "kernelspec": {
   "display_name": "Python 3 (ipykernel)",
   "language": "python",
   "name": "python3"
  },
  "language_info": {
   "codemirror_mode": {
    "name": "ipython",
    "version": 3
   },
   "file_extension": ".py",
   "mimetype": "text/x-python",
   "name": "python",
   "nbconvert_exporter": "python",
   "pygments_lexer": "ipython3",
   "version": "3.11.5"
  }
 },
 "nbformat": 4,
 "nbformat_minor": 5
}
